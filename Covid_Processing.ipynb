{
  "nbformat": 4,
  "nbformat_minor": 0,
  "metadata": {
    "colab": {
      "provenance": []
    },
    "kernelspec": {
      "name": "python3",
      "display_name": "Python 3"
    },
    "language_info": {
      "name": "python"
    }
  },
  "cells": [
    {
      "cell_type": "code",
      "execution_count": null,
      "metadata": {
        "colab": {
          "base_uri": "https://localhost:8080/"
        },
        "id": "RnOLa0FkXvYf",
        "outputId": "e9b99307-6767-4139-a2fb-44f30f603e54"
      },
      "outputs": [
        {
          "output_type": "stream",
          "name": "stdout",
          "text": [
            "Mounted at /content/gdrive\n"
          ]
        }
      ],
      "source": [
        "#configuración en google colab de spark y pyspark\n",
        "from google.colab import drive\n",
        "drive.mount('/content/gdrive')"
      ]
    },
    {
      "cell_type": "code",
      "source": [
        "#instalar java y spark\n",
        "!apt-get install openjdk-11-jdk-headless -qq > /dev/null\n",
        "!wget -q https://dlcdn.apache.org/spark/spark-3.5.3/spark-3.5.3-bin-hadoop3.tgz\n",
        "!tar xf spark-3.5.3-bin-hadoop3.tgz\n",
        "!pip install -q findspark"
      ],
      "metadata": {
        "id": "uYf8J-S9X2bl"
      },
      "execution_count": null,
      "outputs": []
    },
    {
      "cell_type": "code",
      "source": [
        "import os\n",
        "os.environ[\"JAVA_HOME\"] = \"/usr/lib/jvm/java-11-openjdk-amd64\"\n",
        "os.environ[\"SPARK_HOME\"] = \"/content/spark-3.5.3-bin-hadoop3\""
      ],
      "metadata": {
        "id": "xWkdECrKadsb"
      },
      "execution_count": null,
      "outputs": []
    },
    {
      "cell_type": "code",
      "source": [
        "import findspark\n",
        "findspark.init()\n",
        "from pyspark.sql import SparkSession\n",
        "spark = SparkSession.builder.master(\"local[*]\").getOrCreate()\n",
        "sc = spark.sparkContext"
      ],
      "metadata": {
        "id": "4AuLMMClaf9_"
      },
      "execution_count": null,
      "outputs": []
    },
    {
      "cell_type": "code",
      "source": [
        "spark"
      ],
      "metadata": {
        "colab": {
          "base_uri": "https://localhost:8080/",
          "height": 219
        },
        "id": "EHoSHrQhajiG",
        "outputId": "196d7fcf-b4ed-4076-83e5-5d40feb3344d"
      },
      "execution_count": null,
      "outputs": [
        {
          "output_type": "execute_result",
          "data": {
            "text/plain": [
              "<pyspark.sql.session.SparkSession at 0x7a385f3b93c0>"
            ],
            "text/html": [
              "\n",
              "            <div>\n",
              "                <p><b>SparkSession - in-memory</b></p>\n",
              "                \n",
              "        <div>\n",
              "            <p><b>SparkContext</b></p>\n",
              "\n",
              "            <p><a href=\"http://fed74aeaa93a:4040\">Spark UI</a></p>\n",
              "\n",
              "            <dl>\n",
              "              <dt>Version</dt>\n",
              "                <dd><code>v3.5.3</code></dd>\n",
              "              <dt>Master</dt>\n",
              "                <dd><code>local[*]</code></dd>\n",
              "              <dt>AppName</dt>\n",
              "                <dd><code>pyspark-shell</code></dd>\n",
              "            </dl>\n",
              "        </div>\n",
              "        \n",
              "            </div>\n",
              "        "
            ]
          },
          "metadata": {},
          "execution_count": 6
        }
      ]
    },
    {
      "cell_type": "code",
      "source": [
        "sc"
      ],
      "metadata": {
        "colab": {
          "base_uri": "https://localhost:8080/",
          "height": 196
        },
        "id": "jbGe96SIal_B",
        "outputId": "593b059f-692d-4dd7-f006-ff9bb679c3ae"
      },
      "execution_count": null,
      "outputs": [
        {
          "output_type": "execute_result",
          "data": {
            "text/plain": [
              "<SparkContext master=local[*] appName=pyspark-shell>"
            ],
            "text/html": [
              "\n",
              "        <div>\n",
              "            <p><b>SparkContext</b></p>\n",
              "\n",
              "            <p><a href=\"http://fed74aeaa93a:4040\">Spark UI</a></p>\n",
              "\n",
              "            <dl>\n",
              "              <dt>Version</dt>\n",
              "                <dd><code>v3.5.3</code></dd>\n",
              "              <dt>Master</dt>\n",
              "                <dd><code>local[*]</code></dd>\n",
              "              <dt>AppName</dt>\n",
              "                <dd><code>pyspark-shell</code></dd>\n",
              "            </dl>\n",
              "        </div>\n",
              "        "
            ]
          },
          "metadata": {},
          "execution_count": 7
        }
      ]
    },
    {
      "cell_type": "code",
      "source": [
        "# Load csv Dataset\n",
        "df=spark.read.csv('gdrive/MyDrive/st0263-242/bigdata/datasets/covid19/Casos_positivos_de_COVID-19_en_Colombia-100K.csv',inferSchema=True,header=True)"
      ],
      "metadata": {
        "id": "PdZvP_ykaole"
      },
      "execution_count": null,
      "outputs": []
    },
    {
      "cell_type": "code",
      "source": [
        "df.columns"
      ],
      "metadata": {
        "colab": {
          "base_uri": "https://localhost:8080/"
        },
        "id": "V9ILwGyKbLxJ",
        "outputId": "cebef67d-f3ab-4fe4-ef40-6335ff74553f"
      },
      "execution_count": null,
      "outputs": [
        {
          "output_type": "execute_result",
          "data": {
            "text/plain": [
              "['fecha reporte web',\n",
              " 'ID de caso',\n",
              " 'Fecha de notificación',\n",
              " 'Código DIVIPOLA departamento',\n",
              " 'Nombre departamento',\n",
              " 'Código DIVIPOLA municipio',\n",
              " 'Nombre municipio',\n",
              " 'Edad',\n",
              " 'Unidad de medida de edad',\n",
              " 'Sexo',\n",
              " 'Tipo de contagio',\n",
              " 'Ubicación del caso',\n",
              " 'Estado',\n",
              " 'Código ISO del país',\n",
              " 'Nombre del país',\n",
              " 'Recuperado',\n",
              " 'Fecha de inicio de síntomas',\n",
              " 'Fecha de muerte',\n",
              " 'Fecha de diagnóstico',\n",
              " 'Fecha de recuperación',\n",
              " 'Tipo de recuperación',\n",
              " 'Pertenencia étnica',\n",
              " 'Nombre del grupo étnico']"
            ]
          },
          "metadata": {},
          "execution_count": 9
        }
      ]
    },
    {
      "cell_type": "code",
      "source": [
        "df.printSchema()"
      ],
      "metadata": {
        "colab": {
          "base_uri": "https://localhost:8080/"
        },
        "id": "4mj_dGSWb2B7",
        "outputId": "c274432a-4da2-4af5-e203-5c36b36a0ecc"
      },
      "execution_count": null,
      "outputs": [
        {
          "output_type": "stream",
          "name": "stdout",
          "text": [
            "root\n",
            " |-- fecha reporte web: string (nullable = true)\n",
            " |-- ID de caso: integer (nullable = true)\n",
            " |-- Fecha de notificación: string (nullable = true)\n",
            " |-- Código DIVIPOLA departamento: integer (nullable = true)\n",
            " |-- Nombre departamento: string (nullable = true)\n",
            " |-- Código DIVIPOLA municipio: integer (nullable = true)\n",
            " |-- Nombre municipio: string (nullable = true)\n",
            " |-- Edad: integer (nullable = true)\n",
            " |-- Unidad de medida de edad: integer (nullable = true)\n",
            " |-- Sexo: string (nullable = true)\n",
            " |-- Tipo de contagio: string (nullable = true)\n",
            " |-- Ubicación del caso: string (nullable = true)\n",
            " |-- Estado: string (nullable = true)\n",
            " |-- Código ISO del país: integer (nullable = true)\n",
            " |-- Nombre del país: string (nullable = true)\n",
            " |-- Recuperado: string (nullable = true)\n",
            " |-- Fecha de inicio de síntomas: string (nullable = true)\n",
            " |-- Fecha de muerte: string (nullable = true)\n",
            " |-- Fecha de diagnóstico: string (nullable = true)\n",
            " |-- Fecha de recuperación: string (nullable = true)\n",
            " |-- Tipo de recuperación: string (nullable = true)\n",
            " |-- Pertenencia étnica: integer (nullable = true)\n",
            " |-- Nombre del grupo étnico: string (nullable = true)\n",
            "\n"
          ]
        }
      ]
    },
    {
      "cell_type": "code",
      "source": [
        "df.select('fecha reporte web', 'ID de caso', 'Sexo', 'Tipo de contagio').show(10, False)"
      ],
      "metadata": {
        "colab": {
          "base_uri": "https://localhost:8080/"
        },
        "id": "BWFKCWx4b8-R",
        "outputId": "672f8a8b-55bf-4050-9371-2b091ac8f42b"
      },
      "execution_count": null,
      "outputs": [
        {
          "output_type": "stream",
          "name": "stdout",
          "text": [
            "+-----------------+----------+----+----------------+\n",
            "|fecha reporte web|ID de caso|Sexo|Tipo de contagio|\n",
            "+-----------------+----------+----+----------------+\n",
            "|6/3/2020 0:00:00 |1         |F   |Importado       |\n",
            "|9/3/2020 0:00:00 |2         |M   |Importado       |\n",
            "|9/3/2020 0:00:00 |3         |F   |Importado       |\n",
            "|11/3/2020 0:00:00|4         |M   |Relacionado     |\n",
            "|11/3/2020 0:00:00|5         |M   |Relacionado     |\n",
            "|11/3/2020 0:00:00|6         |F   |Relacionado     |\n",
            "|11/3/2020 0:00:00|7         |F   |Importado       |\n",
            "|11/3/2020 0:00:00|8         |F   |Importado       |\n",
            "|11/3/2020 0:00:00|9         |F   |Importado       |\n",
            "|12/3/2020 0:00:00|10        |F   |Importado       |\n",
            "+-----------------+----------+----+----------------+\n",
            "only showing top 10 rows\n",
            "\n"
          ]
        }
      ]
    },
    {
      "cell_type": "code",
      "source": [
        "df=df.withColumnRenamed('fecha reporte web', 'fecha_reporte')"
      ],
      "metadata": {
        "id": "V3CBeyf2cjFK"
      },
      "execution_count": null,
      "outputs": []
    },
    {
      "cell_type": "code",
      "source": [
        "df=df.withColumnsRenamed({'ID de caso': 'ID', 'Nombre del país': 'pais', 'Nombre departamento': 'departamento', 'Nombre municipio': 'municipio', 'Ubicación del caso': 'Ubicación'})"
      ],
      "metadata": {
        "id": "-W1o4BPsc-JI"
      },
      "execution_count": null,
      "outputs": []
    },
    {
      "cell_type": "code",
      "source": [
        "df=df.withColumn('Edad_mas_10', df['Edad'] + 10)\n",
        "df.show(5, False)"
      ],
      "metadata": {
        "colab": {
          "base_uri": "https://localhost:8080/"
        },
        "id": "ulUueyD8dynt",
        "outputId": "7c3c0f47-dfca-4716-89f1-5769e60d1c97"
      },
      "execution_count": null,
      "outputs": [
        {
          "output_type": "stream",
          "name": "stdout",
          "text": [
            "+-----------------+---+---------------------+----------------------------+------------+-------------------------+---------+----+------------------------+----+----------------+---------+------+-------------------+------+----------+---------------------------+---------------+--------------------+---------------------+--------------------+-----------+-----------+\n",
            "|fecha_reporte    |ID |Fecha de notificación|Código DIVIPOLA departamento|departamento|Código DIVIPOLA municipio|municipio|Edad|Unidad de medida de edad|Sexo|Tipo de contagio|Ubicación|Estado|Código ISO del país|pais  |Recuperado|Fecha de inicio de síntomas|Fecha de muerte|Fecha de diagnóstico|Fecha de recuperación|Tipo de recuperación|age_group  |Edad_mas_10|\n",
            "+-----------------+---+---------------------+----------------------------+------------+-------------------------+---------+----+------------------------+----+----------------+---------+------+-------------------+------+----------+---------------------------+---------------+--------------------+---------------------+--------------------+-----------+-----------+\n",
            "|6/3/2020 0:00:00 |1  |2/3/2020 0:00:00     |11                          |BOGOTA      |11001                    |BOGOTA   |19  |1                       |F   |Importado       |Casa     |Leve  |380                |ITALIA|Recuperado|27/2/2020 0:00:00          |NULL           |6/3/2020 0:00:00    |13/3/2020 0:00:00    |PCR                 |young adult|29         |\n",
            "|9/3/2020 0:00:00 |2  |6/3/2020 0:00:00     |76                          |VALLE       |76111                    |BUGA     |34  |1                       |M   |Importado       |Casa     |Leve  |724                |ESPAÑA|Recuperado|4/3/2020 0:00:00           |NULL           |9/3/2020 0:00:00    |19/3/2020 0:00:00    |PCR                 |senior     |44         |\n",
            "|9/3/2020 0:00:00 |3  |7/3/2020 0:00:00     |5                           |ANTIOQUIA   |5001                     |MEDELLIN |50  |1                       |F   |Importado       |Casa     |Leve  |724                |ESPAÑA|Recuperado|29/2/2020 0:00:00          |NULL           |9/3/2020 0:00:00    |15/3/2020 0:00:00    |PCR                 |senior     |60         |\n",
            "|11/3/2020 0:00:00|4  |9/3/2020 0:00:00     |5                           |ANTIOQUIA   |5001                     |MEDELLIN |55  |1                       |M   |Relacionado     |Casa     |Leve  |NULL               |NULL  |Recuperado|6/3/2020 0:00:00           |NULL           |11/3/2020 0:00:00   |26/3/2020 0:00:00    |PCR                 |senior     |65         |\n",
            "|11/3/2020 0:00:00|5  |9/3/2020 0:00:00     |5                           |ANTIOQUIA   |5001                     |MEDELLIN |25  |1                       |M   |Relacionado     |Casa     |Leve  |NULL               |NULL  |Recuperado|8/3/2020 0:00:00           |NULL           |11/3/2020 0:00:00   |23/3/2020 0:00:00    |PCR                 |young adult|35         |\n",
            "+-----------------+---+---------------------+----------------------------+------------+-------------------------+---------+----+------------------------+----+----------------+---------+------+-------------------+------+----------+---------------------------+---------------+--------------------+---------------------+--------------------+-----------+-----------+\n",
            "only showing top 5 rows\n",
            "\n"
          ]
        }
      ]
    },
    {
      "cell_type": "markdown",
      "source": [],
      "metadata": {
        "id": "Dcx7PLpMc8F3"
      }
    },
    {
      "cell_type": "code",
      "source": [
        "columns_to_remove=['Nombre del grupo étnico', 'Pertenencia étnica']\n",
        "df=df.drop(*columns_to_remove)"
      ],
      "metadata": {
        "id": "RZMXjVXbe6E_"
      },
      "execution_count": null,
      "outputs": []
    },
    {
      "cell_type": "code",
      "source": [
        "df.printSchema()"
      ],
      "metadata": {
        "colab": {
          "base_uri": "https://localhost:8080/"
        },
        "id": "1kqFhOJMfFb2",
        "outputId": "ad90e515-eec2-4431-f8b4-2dddc929bca3"
      },
      "execution_count": null,
      "outputs": [
        {
          "output_type": "stream",
          "name": "stdout",
          "text": [
            "root\n",
            " |-- fecha_reporte: string (nullable = true)\n",
            " |-- ID: integer (nullable = true)\n",
            " |-- Fecha de notificación: string (nullable = true)\n",
            " |-- Código DIVIPOLA departamento: integer (nullable = true)\n",
            " |-- departamento: string (nullable = true)\n",
            " |-- Código DIVIPOLA municipio: integer (nullable = true)\n",
            " |-- municipio: string (nullable = true)\n",
            " |-- Edad: integer (nullable = true)\n",
            " |-- Unidad de medida de edad: integer (nullable = true)\n",
            " |-- Sexo: string (nullable = true)\n",
            " |-- Tipo de contagio: string (nullable = true)\n",
            " |-- Ubicación: string (nullable = true)\n",
            " |-- Estado: string (nullable = true)\n",
            " |-- Código ISO del país: integer (nullable = true)\n",
            " |-- pais: string (nullable = true)\n",
            " |-- Recuperado: string (nullable = true)\n",
            " |-- Fecha de inicio de síntomas: string (nullable = true)\n",
            " |-- Fecha de muerte: string (nullable = true)\n",
            " |-- Fecha de diagnóstico: string (nullable = true)\n",
            " |-- Fecha de recuperación: string (nullable = true)\n",
            " |-- Tipo de recuperación: string (nullable = true)\n",
            " |-- age_group: string (nullable = true)\n",
            " |-- Edad_mas_10: integer (nullable = true)\n",
            "\n"
          ]
        }
      ]
    },
    {
      "cell_type": "code",
      "source": [
        "filtered_df=df.filter(df.Sexo == 'F')\n",
        "filtered_df.show(5, False)"
      ],
      "metadata": {
        "colab": {
          "base_uri": "https://localhost:8080/"
        },
        "id": "-XpWuT7efWJA",
        "outputId": "6964ff90-750c-4410-ef66-ab799f5d0955"
      },
      "execution_count": null,
      "outputs": [
        {
          "output_type": "stream",
          "name": "stdout",
          "text": [
            "+-----------------+---+---------------------+----------------------------+------------+-------------------------+---------+----+------------------------+----+----------------+---------+------+-------------------+-------------------------+----------+---------------------------+---------------+--------------------+---------------------+--------------------+-----------+-----------+\n",
            "|fecha_reporte    |ID |Fecha de notificación|Código DIVIPOLA departamento|departamento|Código DIVIPOLA municipio|municipio|Edad|Unidad de medida de edad|Sexo|Tipo de contagio|Ubicación|Estado|Código ISO del país|pais                     |Recuperado|Fecha de inicio de síntomas|Fecha de muerte|Fecha de diagnóstico|Fecha de recuperación|Tipo de recuperación|age_group  |Edad_mas_10|\n",
            "+-----------------+---+---------------------+----------------------------+------------+-------------------------+---------+----+------------------------+----+----------------+---------+------+-------------------+-------------------------+----------+---------------------------+---------------+--------------------+---------------------+--------------------+-----------+-----------+\n",
            "|6/3/2020 0:00:00 |1  |2/3/2020 0:00:00     |11                          |BOGOTA      |11001                    |BOGOTA   |19  |1                       |F   |Importado       |Casa     |Leve  |380                |ITALIA                   |Recuperado|27/2/2020 0:00:00          |NULL           |6/3/2020 0:00:00    |13/3/2020 0:00:00    |PCR                 |young adult|29         |\n",
            "|9/3/2020 0:00:00 |3  |7/3/2020 0:00:00     |5                           |ANTIOQUIA   |5001                     |MEDELLIN |50  |1                       |F   |Importado       |Casa     |Leve  |724                |ESPAÑA                   |Recuperado|29/2/2020 0:00:00          |NULL           |9/3/2020 0:00:00    |15/3/2020 0:00:00    |PCR                 |senior     |60         |\n",
            "|11/3/2020 0:00:00|6  |10/3/2020 0:00:00    |5                           |ANTIOQUIA   |5360                     |ITAGUI   |27  |1                       |F   |Relacionado     |Casa     |Leve  |NULL               |NULL                     |Recuperado|6/3/2020 0:00:00           |NULL           |11/3/2020 0:00:00   |26/3/2020 0:00:00    |PCR                 |young adult|37         |\n",
            "|11/3/2020 0:00:00|7  |8/3/2020 0:00:00     |13001                       |CARTAGENA   |13001                    |CARTAGENA|85  |1                       |F   |Importado       |Casa     |Leve  |840                |ESTADOS UNIDOS DE AMÉRICA|Recuperado|2/3/2020 0:00:00           |NULL           |11/3/2020 0:00:00   |17/3/2020 0:00:00    |PCR                 |senior     |95         |\n",
            "|11/3/2020 0:00:00|8  |9/3/2020 0:00:00     |11                          |BOGOTA      |11001                    |BOGOTA   |22  |1                       |F   |Importado       |Casa     |Leve  |724                |ESPAÑA                   |Recuperado|6/3/2020 0:00:00           |NULL           |11/3/2020 0:00:00   |21/3/2020 0:00:00    |PCR                 |young adult|32         |\n",
            "+-----------------+---+---------------------+----------------------------+------------+-------------------------+---------+----+------------------------+----+----------------+---------+------+-------------------+-------------------------+----------+---------------------------+---------------+--------------------+---------------------+--------------------+-----------+-----------+\n",
            "only showing top 5 rows\n",
            "\n"
          ]
        }
      ]
    },
    {
      "cell_type": "code",
      "source": [
        "filtered2_df=df.filter(\"Sexo=='F' and Edad>20 and Recuperado like '%Recuperado%' and municipio like 'MEDELLIN'\")\n",
        "filtered2_df.show()"
      ],
      "metadata": {
        "colab": {
          "base_uri": "https://localhost:8080/"
        },
        "id": "CY_35VvSfdRR",
        "outputId": "6d38002b-7999-4969-e5d4-276ace4c96ad"
      },
      "execution_count": null,
      "outputs": [
        {
          "output_type": "stream",
          "name": "stdout",
          "text": [
            "+-----------------+---+---------------------+----------------------------+------------+-------------------------+---------+----+------------------------+----+----------------+---------+------+-------------------+--------------------+----------+---------------------------+---------------+--------------------+---------------------+--------------------+-----------+-----------+\n",
            "|    fecha_reporte| ID|Fecha de notificación|Código DIVIPOLA departamento|departamento|Código DIVIPOLA municipio|municipio|Edad|Unidad de medida de edad|Sexo|Tipo de contagio|Ubicación|Estado|Código ISO del país|                pais|Recuperado|Fecha de inicio de síntomas|Fecha de muerte|Fecha de diagnóstico|Fecha de recuperación|Tipo de recuperación|  age_group|Edad_mas_10|\n",
            "+-----------------+---+---------------------+----------------------------+------------+-------------------------+---------+----+------------------------+----+----------------+---------+------+-------------------+--------------------+----------+---------------------------+---------------+--------------------+---------------------+--------------------+-----------+-----------+\n",
            "| 9/3/2020 0:00:00|  3|     7/3/2020 0:00:00|                           5|   ANTIOQUIA|                     5001| MEDELLIN|  50|                       1|   F|       Importado|     Casa|  Leve|                724|              ESPAÑA|Recuperado|          29/2/2020 0:00:00|           NULL|    9/3/2020 0:00:00|    15/3/2020 0:00:00|                 PCR|     senior|         60|\n",
            "|14/3/2020 0:00:00| 20|    11/3/2020 0:00:00|                           5|   ANTIOQUIA|                     5001| MEDELLIN|  26|                       1|   F|     Relacionado|     Casa|  Leve|               NULL|                NULL|Recuperado|           9/3/2020 0:00:00|           NULL|   14/3/2020 0:00:00|    24/3/2020 0:00:00|                 PCR|young adult|         36|\n",
            "|19/3/2020 0:00:00|108|    17/3/2020 0:00:00|                           5|   ANTIOQUIA|                     5001| MEDELLIN|  57|                       1|   F|       Importado|     Casa|  Leve|                724|              ESPAÑA|Recuperado|          14/3/2020 0:00:00|           NULL|   19/3/2020 0:00:00|    28/3/2020 0:00:00|                 PCR|     senior|         67|\n",
            "|20/3/2020 0:00:00|131|    15/3/2020 0:00:00|                           5|   ANTIOQUIA|                     5001| MEDELLIN|  22|                       1|   F|       Importado|     Casa|  Leve|                724|              ESPAÑA|Recuperado|          13/3/2020 0:00:00|           NULL|   20/3/2020 0:00:00|    28/3/2020 0:00:00|                 PCR|young adult|         32|\n",
            "|20/3/2020 0:00:00|135|    17/3/2020 0:00:00|                           5|   ANTIOQUIA|                     5001| MEDELLIN|  44|                       1|   F|       Importado|     Casa|  Leve|                276|            ALEMANIA|Recuperado|          16/3/2020 0:00:00|           NULL|   20/3/2020 0:00:00|     1/4/2020 0:00:00|                 PCR|     senior|         54|\n",
            "|20/3/2020 0:00:00|141|    17/3/2020 0:00:00|                           5|   ANTIOQUIA|                     5001| MEDELLIN|  62|                       1|   F|       Importado|     Casa|  Leve|                191|             CROACIA|Recuperado|          10/3/2020 0:00:00|           NULL|   20/3/2020 0:00:00|    25/3/2020 0:00:00|                 PCR|     senior|         72|\n",
            "|20/3/2020 0:00:00|142|    20/3/2020 0:00:00|                           5|   ANTIOQUIA|                     5001| MEDELLIN|  35|                       1|   F|       Importado|     Casa|  Leve|                591|              PANAMA|Recuperado|          14/3/2020 0:00:00|           NULL|   20/3/2020 0:00:00|    29/3/2020 0:00:00|                 PCR|     senior|         45|\n",
            "|22/3/2020 0:00:00|238|    16/3/2020 0:00:00|                           5|   ANTIOQUIA|                     5001| MEDELLIN|  61|                       1|   F|       Importado|     Casa|  Leve|                724|              ESPAÑA|Recuperado|          14/3/2020 0:00:00|           NULL|   22/3/2020 0:00:00|    11/4/2020 0:00:00|              Tiempo|     senior|         71|\n",
            "|23/3/2020 0:00:00|268|    19/3/2020 0:00:00|                           5|   ANTIOQUIA|                     5001| MEDELLIN|  37|                       1|   F|       Importado|     Casa|  Leve|                724|              ESPAÑA|Recuperado|          14/3/2020 0:00:00|           NULL|   23/3/2020 0:00:00|    26/3/2020 0:00:00|                 PCR|     senior|         47|\n",
            "|23/3/2020 0:00:00|271|    18/3/2020 0:00:00|                           5|   ANTIOQUIA|                     5001| MEDELLIN|  21|                       1|   F|       Importado|     Casa|  Leve|                724|              ESPAÑA|Recuperado|          14/3/2020 0:00:00|           NULL|   23/3/2020 0:00:00|    29/3/2020 0:00:00|                 PCR|young adult|         31|\n",
            "|23/3/2020 0:00:00|272|    18/3/2020 0:00:00|                           5|   ANTIOQUIA|                     5001| MEDELLIN|  47|                       1|   F|       Importado|     Casa|  Leve|                724|              ESPAÑA|Recuperado|          14/3/2020 0:00:00|           NULL|   23/3/2020 0:00:00|    29/3/2020 0:00:00|                 PCR|     senior|         57|\n",
            "|23/3/2020 0:00:00|275|    23/3/2020 0:00:00|                           5|   ANTIOQUIA|                     5001| MEDELLIN|  21|                       1|   F|       Importado|     Casa|  Leve|                724|              ESPAÑA|Recuperado|           8/3/2020 0:00:00|           NULL|   23/3/2020 0:00:00|    23/3/2020 0:00:00|                 PCR|young adult|         31|\n",
            "|23/3/2020 0:00:00|292|    19/3/2020 0:00:00|                           5|   ANTIOQUIA|                     5001| MEDELLIN|  43|                       1|   F|       Importado|     Casa|  Leve|                840|ESTADOS UNIDOS DE...|Recuperado|          15/3/2020 0:00:00|           NULL|   23/3/2020 0:00:00|    29/3/2020 0:00:00|                 PCR|     senior|         53|\n",
            "|23/3/2020 0:00:00|293|    18/3/2020 0:00:00|                           5|   ANTIOQUIA|                     5001| MEDELLIN|  30|                       1|   F|       Importado|     Casa|  Leve|                218|             ECUADOR|Recuperado|          13/3/2020 0:00:00|           NULL|   23/3/2020 0:00:00|    13/4/2020 0:00:00|              Tiempo|young adult|         40|\n",
            "|23/3/2020 0:00:00|294|    21/3/2020 0:00:00|                           5|   ANTIOQUIA|                     5001| MEDELLIN|  30|                       1|   F|       Importado|     Casa|  Leve|                840|ESTADOS UNIDOS DE...|Recuperado|          16/3/2020 0:00:00|           NULL|   23/3/2020 0:00:00|    30/3/2020 0:00:00|                 PCR|young adult|         40|\n",
            "|23/3/2020 0:00:00|296|    19/3/2020 0:00:00|                           5|   ANTIOQUIA|                     5001| MEDELLIN|  25|                       1|   F|     Relacionado|     Casa|  Leve|               NULL|                NULL|Recuperado|          15/3/2020 0:00:00|           NULL|   23/3/2020 0:00:00|    25/4/2020 0:00:00|              Tiempo|young adult|         35|\n",
            "|25/3/2020 0:00:00|438|    20/3/2020 0:00:00|                           5|   ANTIOQUIA|                     5001| MEDELLIN|  36|                       1|   F|     Relacionado|     Casa|  Leve|               NULL|                NULL|Recuperado|          14/3/2020 0:00:00|           NULL|   25/3/2020 0:00:00|    29/3/2020 0:00:00|                 PCR|     senior|         46|\n",
            "|25/3/2020 0:00:00|450|    19/3/2020 0:00:00|                           5|   ANTIOQUIA|                     5001| MEDELLIN|  24|                       1|   F|     Relacionado|     Casa|  Leve|               NULL|                NULL|Recuperado|          15/3/2020 0:00:00|           NULL|   25/3/2020 0:00:00|    29/3/2020 0:00:00|                 PCR|young adult|         34|\n",
            "|25/3/2020 0:00:00|466|    19/3/2020 0:00:00|                           5|   ANTIOQUIA|                     5001| MEDELLIN|  32|                       1|   F|     Relacionado|     Casa|  Leve|               NULL|                NULL|Recuperado|          16/3/2020 0:00:00|           NULL|   25/3/2020 0:00:00|    30/3/2020 0:00:00|                 PCR|     senior|         42|\n",
            "|28/3/2020 0:00:00|595|    16/3/2020 0:00:00|                           5|   ANTIOQUIA|                     5001| MEDELLIN|  27|                       1|   F|       Importado|     Casa|  Leve|                840|ESTADOS UNIDOS DE...|Recuperado|          10/3/2020 0:00:00|           NULL|   28/3/2020 0:00:00|     7/4/2020 0:00:00|                 PCR|young adult|         37|\n",
            "+-----------------+---+---------------------+----------------------------+------------+-------------------------+---------+----+------------------------+----+----------------+---------+------+-------------------+--------------------+----------+---------------------------+---------------+--------------------+---------------------+--------------------+-----------+-----------+\n",
            "only showing top 20 rows\n",
            "\n"
          ]
        }
      ]
    },
    {
      "cell_type": "code",
      "source": [
        "from pyspark.sql.functions import udf\n",
        "from pyspark.sql.types import StringType,DoubleType,IntegerType"
      ],
      "metadata": {
        "id": "19CrQeMMf_8y"
      },
      "execution_count": null,
      "outputs": []
    },
    {
      "cell_type": "code",
      "source": [
        "age_udf=udf(lambda age: \"kid\" if age < 18 else ('young adult' if age<=30 else 'senior'), StringType())\n",
        "df=df.withColumn(\"age_group\", age_udf(df.Edad))\n",
        "df.filter(df['age_group']=='young adult').orderBy('Edad', ascending=False).show(10, False)"
      ],
      "metadata": {
        "colab": {
          "base_uri": "https://localhost:8080/"
        },
        "id": "qMYWC50Kht6A",
        "outputId": "e163deeb-a3c6-4c90-f991-f3b384a15bdd"
      },
      "execution_count": null,
      "outputs": [
        {
          "output_type": "stream",
          "name": "stdout",
          "text": [
            "+-----------------+----------+---------------------+----------------------------+-------------------+-------------------------+----------------+----+------------------------+----+----------------+------------------+------+-------------------+--------------------+----------+---------------------------+---------------+--------------------+---------------------+--------------------+------------------+-----------------------+-----------+\n",
            "|fecha reporte web|ID de caso|Fecha de notificación|Código DIVIPOLA departamento|Nombre departamento|Código DIVIPOLA municipio|Nombre municipio|Edad|Unidad de medida de edad|Sexo|Tipo de contagio|Ubicación del caso|Estado|Código ISO del país|Nombre del país     |Recuperado|Fecha de inicio de síntomas|Fecha de muerte|Fecha de diagnóstico|Fecha de recuperación|Tipo de recuperación|Pertenencia étnica|Nombre del grupo étnico|age_group  |\n",
            "+-----------------+----------+---------------------+----------------------------+-------------------+-------------------------+----------------+----+------------------------+----+----------------+------------------+------+-------------------+--------------------+----------+---------------------------+---------------+--------------------+---------------------+--------------------+------------------+-----------------------+-----------+\n",
            "|19/6/2020 0:00:00|62406     |10/6/2020 0:00:00    |11                          |BOGOTA             |11001                    |BOGOTA          |30  |1                       |F   |Relacionado     |Casa              |Leve  |NULL               |NULL                |Recuperado|9/6/2020 0:00:00           |NULL           |19/6/2020 0:00:00   |12/7/2020 0:00:00    |PCR                 |6                 |NULL                   |young adult|\n",
            "|21/3/2020 0:00:00|192       |20/3/2020 0:00:00    |76                          |VALLE              |76001                    |CALI            |30  |1                       |F   |Relacionado     |Casa              |Leve  |NULL               |NULL                |Recuperado|17/3/2020 0:00:00          |NULL           |21/3/2020 0:00:00   |2/4/2020 0:00:00     |PCR                 |6                 |NULL                   |young adult|\n",
            "|19/6/2020 0:00:00|62398     |17/6/2020 0:00:00    |11                          |BOGOTA             |11001                    |BOGOTA          |30  |1                       |M   |Relacionado     |Casa              |Leve  |NULL               |NULL                |Recuperado|14/6/2020 0:00:00          |NULL           |19/6/2020 0:00:00   |23/7/2020 0:00:00    |Tiempo              |5                 |NULL                   |young adult|\n",
            "|27/3/2020 0:00:00|517       |23/3/2020 0:00:00    |11                          |BOGOTA             |11001                    |BOGOTA          |30  |1                       |F   |Relacionado     |Casa              |Leve  |NULL               |NULL                |Recuperado|17/3/2020 0:00:00          |NULL           |27/3/2020 0:00:00   |15/4/2020 0:00:00    |PCR                 |6                 |NULL                   |young adult|\n",
            "|19/6/2020 0:00:00|62380     |10/6/2020 0:00:00    |11                          |BOGOTA             |11001                    |BOGOTA          |30  |1                       |F   |Comunitaria     |Casa              |Leve  |NULL               |NULL                |Recuperado|8/6/2020 0:00:00           |NULL           |19/6/2020 0:00:00   |11/7/2020 0:00:00    |PCR                 |6                 |NULL                   |young adult|\n",
            "|22/3/2020 0:00:00|213       |19/3/2020 0:00:00    |20                          |CESAR              |20001                    |VALLEDUPAR      |30  |1                       |M   |Importado       |Casa              |Leve  |724                |ESPAÑA              |Recuperado|15/3/2020 0:00:00          |NULL           |22/3/2020 0:00:00   |25/3/2020 0:00:00    |PCR                 |6                 |NULL                   |young adult|\n",
            "|19/6/2020 0:00:00|62617     |16/6/2020 0:00:00    |11                          |BOGOTA             |11001                    |BOGOTA          |30  |1                       |M   |Relacionado     |Casa              |Leve  |NULL               |NULL                |Recuperado|11/6/2020 0:00:00          |NULL           |19/6/2020 0:00:00   |14/7/2020 0:00:00    |Tiempo              |6                 |NULL                   |young adult|\n",
            "|13/3/2020 0:00:00|15        |13/3/2020 0:00:00    |50                          |META               |50001                    |VILLAVICENCIO   |30  |1                       |F   |Importado       |Casa              |Leve  |724                |ESPAÑA              |Recuperado|9/3/2020 0:00:00           |NULL           |13/3/2020 0:00:00   |23/3/2020 0:00:00    |PCR                 |6                 |NULL                   |young adult|\n",
            "|19/6/2020 0:00:00|62384     |7/6/2020 0:00:00     |11                          |BOGOTA             |11001                    |BOGOTA          |30  |1                       |M   |Comunitaria     |Casa              |Leve  |NULL               |NULL                |Recuperado|3/6/2020 0:00:00           |NULL           |19/6/2020 0:00:00   |6/7/2020 0:00:00     |PCR                 |6                 |NULL                   |young adult|\n",
            "|23/3/2020 0:00:00|248       |23/3/2020 0:00:00    |11                          |BOGOTA             |11001                    |BOGOTA          |30  |1                       |F   |Importado       |Casa              |Leve  |214                |REPÚBLICA DOMINICANA|Recuperado|16/3/2020 0:00:00          |NULL           |23/3/2020 0:00:00   |31/3/2020 0:00:00    |PCR                 |6                 |NULL                   |young adult|\n",
            "+-----------------+----------+---------------------+----------------------------+-------------------+-------------------------+----------------+----+------------------------+----+----------------+------------------+------+-------------------+--------------------+----------+---------------------------+---------------+--------------------+---------------------+--------------------+------------------+-----------------------+-----------+\n",
            "only showing top 10 rows\n",
            "\n"
          ]
        }
      ]
    },
    {
      "cell_type": "code",
      "source": [
        "df.groupBy('departamento').count().orderBy('count', ascending=False).show(10, False)"
      ],
      "metadata": {
        "colab": {
          "base_uri": "https://localhost:8080/"
        },
        "id": "BTOEt3j2j_3H",
        "outputId": "c044c9d1-11e6-4f85-9faf-7bd5c2b347b0"
      },
      "execution_count": null,
      "outputs": [
        {
          "output_type": "stream",
          "name": "stdout",
          "text": [
            "+------------+-----+\n",
            "|departamento|count|\n",
            "+------------+-----+\n",
            "|BOGOTA      |30016|\n",
            "|BARRANQUILLA|13065|\n",
            "|ATLANTICO   |10994|\n",
            "|VALLE       |10404|\n",
            "|CARTAGENA   |8333 |\n",
            "|ANTIOQUIA   |4554 |\n",
            "|NARIÑO      |3520 |\n",
            "|CUNDINAMARCA|2827 |\n",
            "|AMAZONAS    |2317 |\n",
            "|CHOCO       |1636 |\n",
            "+------------+-----+\n",
            "only showing top 10 rows\n",
            "\n"
          ]
        }
      ]
    },
    {
      "cell_type": "code",
      "source": [
        "df.groupBy('municipio').count().orderBy('count', ascending=False).show(10, False)"
      ],
      "metadata": {
        "colab": {
          "base_uri": "https://localhost:8080/"
        },
        "id": "oMTWxFuGkW_o",
        "outputId": "a3b2588e-e69c-4d5b-f456-817ee8057a8c"
      },
      "execution_count": null,
      "outputs": [
        {
          "output_type": "stream",
          "name": "stdout",
          "text": [
            "+------------+-----+\n",
            "|municipio   |count|\n",
            "+------------+-----+\n",
            "|BOGOTA      |30016|\n",
            "|BARRANQUILLA|13065|\n",
            "|CARTAGENA   |8333 |\n",
            "|CALI        |7747 |\n",
            "|SOLEDAD     |6233 |\n",
            "|LETICIA     |2194 |\n",
            "|MEDELLIN    |2137 |\n",
            "|TUMACO      |1501 |\n",
            "|BUENAVENTURA|1453 |\n",
            "|QUIBDO      |1367 |\n",
            "+------------+-----+\n",
            "only showing top 10 rows\n",
            "\n"
          ]
        }
      ]
    },
    {
      "cell_type": "code",
      "source": [
        "df.dropna(subset=['Fecha de inicio de síntomas']).groupBy('Fecha de inicio de síntomas').count().orderBy('count', ascending=False).show(10, False)"
      ],
      "metadata": {
        "colab": {
          "base_uri": "https://localhost:8080/"
        },
        "id": "_a2AIWq_ZNZo",
        "outputId": "9afcfbca-ef7e-4ef6-d2f8-ede587a7e6d3"
      },
      "execution_count": 28,
      "outputs": [
        {
          "output_type": "stream",
          "name": "stdout",
          "text": [
            "+---------------------------+-----+\n",
            "|Fecha de inicio de síntomas|count|\n",
            "+---------------------------+-----+\n",
            "|10/6/2020 0:00:00          |2731 |\n",
            "|16/6/2020 0:00:00          |2558 |\n",
            "|18/6/2020 0:00:00          |2479 |\n",
            "|12/6/2020 0:00:00          |2452 |\n",
            "|1/6/2020 0:00:00           |2429 |\n",
            "|8/6/2020 0:00:00           |2390 |\n",
            "|17/6/2020 0:00:00          |2344 |\n",
            "|5/6/2020 0:00:00           |2266 |\n",
            "|9/6/2020 0:00:00           |2224 |\n",
            "|19/6/2020 0:00:00          |2162 |\n",
            "+---------------------------+-----+\n",
            "only showing top 10 rows\n",
            "\n"
          ]
        }
      ]
    },
    {
      "cell_type": "code",
      "source": [
        "df.select('edad', 'age_group', 'ID').groupBy('edad', 'age_group').count().orderBy('count', ascending=False).show()"
      ],
      "metadata": {
        "colab": {
          "base_uri": "https://localhost:8080/"
        },
        "id": "bjwkzq4qudrp",
        "outputId": "af74f666-49b9-4ede-d79b-7f79129534d5"
      },
      "execution_count": 30,
      "outputs": [
        {
          "output_type": "stream",
          "name": "stdout",
          "text": [
            "+----+-----------+-----+\n",
            "|edad|  age_group|count|\n",
            "+----+-----------+-----+\n",
            "|  30|young adult| 2735|\n",
            "|  29|young adult| 2611|\n",
            "|  31|     senior| 2569|\n",
            "|  28|young adult| 2540|\n",
            "|  27|young adult| 2494|\n",
            "|  26|young adult| 2436|\n",
            "|  33|     senior| 2371|\n",
            "|  32|     senior| 2362|\n",
            "|  25|young adult| 2335|\n",
            "|  34|     senior| 2310|\n",
            "|  35|     senior| 2292|\n",
            "|  24|young adult| 2214|\n",
            "|  36|     senior| 2175|\n",
            "|  37|     senior| 2132|\n",
            "|  38|     senior| 2098|\n",
            "|  40|     senior| 2050|\n",
            "|  23|young adult| 2041|\n",
            "|  39|     senior| 1985|\n",
            "|  22|young adult| 1879|\n",
            "|  41|     senior| 1783|\n",
            "+----+-----------+-----+\n",
            "only showing top 20 rows\n",
            "\n"
          ]
        }
      ]
    },
    {
      "cell_type": "code",
      "source": [
        "from pyspark.sql.functions import col\n",
        "df.filter(col('Fecha de muerte').isNotNull()).groupBy('age_group').count().orderBy('count', ascending=False).show()"
      ],
      "metadata": {
        "colab": {
          "base_uri": "https://localhost:8080/"
        },
        "id": "AWG2GP32oKlH",
        "outputId": "cfbf9a81-2c04-4f48-a25c-86b0296354a6"
      },
      "execution_count": 31,
      "outputs": [
        {
          "output_type": "stream",
          "name": "stdout",
          "text": [
            "+-----------+-----+\n",
            "|  age_group|count|\n",
            "+-----------+-----+\n",
            "|     senior| 5435|\n",
            "|young adult|  151|\n",
            "|        kid|   47|\n",
            "+-----------+-----+\n",
            "\n"
          ]
        }
      ]
    },
    {
      "cell_type": "code",
      "source": [
        "df.filter(col('Fecha de muerte').isNotNull()).show()"
      ],
      "metadata": {
        "colab": {
          "base_uri": "https://localhost:8080/"
        },
        "id": "uqZ16Ln6ocQd",
        "outputId": "f97a856e-f109-487d-e7aa-3f0d66d50227"
      },
      "execution_count": 32,
      "outputs": [
        {
          "output_type": "stream",
          "name": "stdout",
          "text": [
            "+-----------------+---+---------------------+----------------------------+--------------+-------------------------+------------+----+------------------------+----+----------------+---------+---------+-------------------+--------------------+----------+---------------------------+-----------------+--------------------+---------------------+--------------------+-----------+-----------+\n",
            "|    fecha_reporte| ID|Fecha de notificación|Código DIVIPOLA departamento|  departamento|Código DIVIPOLA municipio|   municipio|Edad|Unidad de medida de edad|Sexo|Tipo de contagio|Ubicación|   Estado|Código ISO del país|                pais|Recuperado|Fecha de inicio de síntomas|  Fecha de muerte|Fecha de diagnóstico|Fecha de recuperación|Tipo de recuperación|  age_group|Edad_mas_10|\n",
            "+-----------------+---+---------------------+----------------------------+--------------+-------------------------+------------+----+------------------------+----+----------------+---------+---------+-------------------+--------------------+----------+---------------------------+-----------------+--------------------+---------------------+--------------------+-----------+-----------+\n",
            "|20/3/2020 0:00:00|152|    18/3/2020 0:00:00|                          11|        BOGOTA|                    11001|      BOGOTA|  65|                       1|   M|       Importado|Fallecido|Fallecido|                840|ESTADOS UNIDOS DE...| Fallecido|          10/3/2020 0:00:00| 5/4/2020 0:00:00|   20/3/2020 0:00:00|                 NULL|                NULL|     senior|         75|\n",
            "|20/3/2020 0:00:00|153|    18/3/2020 0:00:00|                          11|        BOGOTA|                    11001|      BOGOTA|  53|                       1|   F|     Relacionado|Fallecido|Fallecido|               NULL|                NULL| Fallecido|          18/3/2020 0:00:00| 6/4/2020 0:00:00|   20/3/2020 0:00:00|                 NULL|                NULL|     senior|         63|\n",
            "|20/3/2020 0:00:00|157|    20/3/2020 0:00:00|                       47001|STA MARTA D.E.|                    47001| SANTA MARTA|  88|                       1|   M|     Relacionado|Fallecido|Fallecido|               NULL|                NULL| Fallecido|          12/3/2020 0:00:00|23/3/2020 0:00:00|   20/3/2020 0:00:00|                 NULL|                NULL|     senior|         98|\n",
            "|21/3/2020 0:00:00|188|    17/3/2020 0:00:00|                          76|         VALLE|                    76892|       YUMBO|  70|                       1|   F|     Relacionado|Fallecido|Fallecido|               NULL|                NULL| Fallecido|           8/3/2020 0:00:00|22/3/2020 0:00:00|   21/3/2020 0:00:00|                 NULL|                NULL|     senior|         80|\n",
            "|16/3/2020 0:00:00|197|    13/3/2020 0:00:00|                       13001|     CARTAGENA|                    13001|   CARTAGENA|  58|                       1|   M|     Relacionado|Fallecido|Fallecido|               NULL|                NULL| Fallecido|           6/3/2020 0:00:00|16/3/2020 0:00:00|   16/3/2020 0:00:00|                 NULL|                NULL|     senior|         68|\n",
            "|22/3/2020 0:00:00|232|    20/3/2020 0:00:00|                          11|        BOGOTA|                    11001|      BOGOTA|  59|                       1|   F|     Relacionado|Fallecido|Fallecido|               NULL|                NULL| Fallecido|          13/3/2020 0:00:00|26/3/2020 0:00:00|   22/3/2020 0:00:00|                 NULL|                NULL|     senior|         69|\n",
            "|23/3/2020 0:00:00|250|    23/3/2020 0:00:00|                          11|        BOGOTA|                    11001|      BOGOTA|  76|                       1|   M|     Comunitaria|Fallecido|Fallecido|               NULL|                NULL| Fallecido|          10/3/2020 0:00:00|25/3/2020 0:00:00|   23/3/2020 0:00:00|                 NULL|                NULL|     senior|         86|\n",
            "|23/3/2020 0:00:00|261|    23/3/2020 0:00:00|                          11|        BOGOTA|                    11001|      BOGOTA|  61|                       1|   M|     Relacionado|Fallecido|Fallecido|               NULL|                NULL| Fallecido|           5/3/2020 0:00:00| 4/4/2020 0:00:00|   23/3/2020 0:00:00|                 NULL|                NULL|     senior|         71|\n",
            "|23/3/2020 0:00:00|282|    20/3/2020 0:00:00|                          76|         VALLE|                    76001|        CALI|  40|                       1|   M|       Importado|Fallecido|Fallecido|                840|ESTADOS UNIDOS DE...| Fallecido|          14/3/2020 0:00:00|15/4/2020 0:00:00|   23/3/2020 0:00:00|                 NULL|                NULL|     senior|         50|\n",
            "|23/3/2020 0:00:00|286|    21/3/2020 0:00:00|                          41|         HUILA|                    41001|       NEIVA|  83|                       1|   F|     Relacionado|Fallecido|Fallecido|               NULL|                NULL| Fallecido|          18/3/2020 0:00:00| 6/4/2020 0:00:00|   23/3/2020 0:00:00|                 NULL|                NULL|     senior|         93|\n",
            "|24/3/2020 0:00:00|314|    20/3/2020 0:00:00|                          52|        NARIÑO|                    52356|     IPIALES|  62|                       1|   M|       Importado|Fallecido|Fallecido|                218|             ECUADOR| Fallecido|          19/3/2020 0:00:00| 9/4/2020 0:00:00|   24/3/2020 0:00:00|                 NULL|                NULL|     senior|         72|\n",
            "|24/3/2020 0:00:00|326|    21/3/2020 0:00:00|                          66|     RISARALDA|                    66001|     PEREIRA|  61|                       1|   M|     Relacionado|Fallecido|Fallecido|               NULL|                NULL| Fallecido|          18/3/2020 0:00:00|30/3/2020 0:00:00|   24/3/2020 0:00:00|                 NULL|                NULL|     senior|         71|\n",
            "|24/3/2020 0:00:00|389|    23/3/2020 0:00:00|                          11|        BOGOTA|                    11001|      BOGOTA|  73|                       1|   M|     Relacionado|Fallecido|Fallecido|               NULL|                NULL| Fallecido|          19/3/2020 0:00:00|28/3/2020 0:00:00|   24/3/2020 0:00:00|                 NULL|                NULL|     senior|         83|\n",
            "|24/3/2020 0:00:00|415|    21/3/2020 0:00:00|                          11|        BOGOTA|                    11001|      BOGOTA|  62|                       1|   M|     Comunitaria|Fallecido|Fallecido|               NULL|                NULL| Fallecido|          14/3/2020 0:00:00|10/6/2020 0:00:00|   24/3/2020 0:00:00|                 NULL|                NULL|     senior|         72|\n",
            "|25/3/2020 0:00:00|425|    21/3/2020 0:00:00|                          76|         VALLE|                    76834|       TULUA|  80|                       1|   F|     Relacionado|Fallecido|Fallecido|               NULL|                NULL| Fallecido|          18/3/2020 0:00:00| 4/4/2020 0:00:00|   25/3/2020 0:00:00|                 NULL|                NULL|     senior|         90|\n",
            "|26/3/2020 0:00:00|491|    25/3/2020 0:00:00|                          11|        BOGOTA|                    11001|      BOGOTA|  84|                       1|   M|     Relacionado|Fallecido|Fallecido|               NULL|                NULL| Fallecido|          17/3/2020 0:00:00|26/3/2020 0:00:00|   26/3/2020 0:00:00|                 NULL|                NULL|     senior|         94|\n",
            "|27/3/2020 0:00:00|510|    23/3/2020 0:00:00|                          11|        BOGOTA|                    11001|      BOGOTA|  72|                       1|   M|     Comunitaria|Fallecido|Fallecido|               NULL|                NULL| Fallecido|          20/3/2020 0:00:00| 2/4/2020 0:00:00|   27/3/2020 0:00:00|                 NULL|                NULL|     senior|         82|\n",
            "|27/3/2020 0:00:00|514|    22/3/2020 0:00:00|                          11|        BOGOTA|                    11001|      BOGOTA|  71|                       1|   M|     Relacionado|Fallecido|Fallecido|               NULL|                NULL| Fallecido|           6/3/2020 0:00:00| 8/4/2020 0:00:00|   27/3/2020 0:00:00|                 NULL|                NULL|     senior|         81|\n",
            "|27/3/2020 0:00:00|533|    24/3/2020 0:00:00|                        8001|  BARRANQUILLA|                     8001|BARRANQUILLA|  25|                       1|   M|       Importado|Fallecido|Fallecido|                724|              ESPAÑA| Fallecido|          18/3/2020 0:00:00| 2/4/2020 0:00:00|   27/3/2020 0:00:00|                 NULL|                NULL|young adult|         35|\n",
            "|27/3/2020 0:00:00|535|    24/3/2020 0:00:00|                           8|     ATLANTICO|                     8758|     SOLEDAD|  50|                       1|   M|     Relacionado|Fallecido|Fallecido|               NULL|                NULL| Fallecido|          15/3/2020 0:00:00|27/3/2020 0:00:00|   27/3/2020 0:00:00|                 NULL|                NULL|     senior|         60|\n",
            "+-----------------+---+---------------------+----------------------------+--------------+-------------------------+------------+----+------------------------+----+----------------+---------+---------+-------------------+--------------------+----------+---------------------------+-----------------+--------------------+---------------------+--------------------+-----------+-----------+\n",
            "only showing top 20 rows\n",
            "\n"
          ]
        }
      ]
    },
    {
      "cell_type": "markdown",
      "source": [
        "Using SparkSQL"
      ],
      "metadata": {
        "id": "-CdHDKlktCv2"
      }
    },
    {
      "cell_type": "code",
      "source": [
        "df.createOrReplaceTempView(\"covid19\")"
      ],
      "metadata": {
        "id": "QCgtQpuit1z5"
      },
      "execution_count": 33,
      "outputs": []
    },
    {
      "cell_type": "code",
      "source": [
        "spark.sql(\"select departamento, count(*) as count from covid19 group by departamento order by count desc\").show(10)"
      ],
      "metadata": {
        "colab": {
          "base_uri": "https://localhost:8080/"
        },
        "id": "1lq_Tv96tBbR",
        "outputId": "882036ee-aa33-4508-d673-97675f73e021"
      },
      "execution_count": 34,
      "outputs": [
        {
          "output_type": "stream",
          "name": "stdout",
          "text": [
            "+------------+-----+\n",
            "|departamento|count|\n",
            "+------------+-----+\n",
            "|      BOGOTA|30016|\n",
            "|BARRANQUILLA|13065|\n",
            "|   ATLANTICO|10994|\n",
            "|       VALLE|10404|\n",
            "|   CARTAGENA| 8333|\n",
            "|   ANTIOQUIA| 4554|\n",
            "|      NARIÑO| 3520|\n",
            "|CUNDINAMARCA| 2827|\n",
            "|    AMAZONAS| 2317|\n",
            "|       CHOCO| 1636|\n",
            "+------------+-----+\n",
            "only showing top 10 rows\n",
            "\n"
          ]
        }
      ]
    },
    {
      "cell_type": "code",
      "source": [
        "spark.sql(\"select municipio, count(*) as count from covid19 group by municipio order by count desc\").show(10)"
      ],
      "metadata": {
        "colab": {
          "base_uri": "https://localhost:8080/"
        },
        "id": "tVqgsvfjuCsF",
        "outputId": "a52a6105-e39e-4919-a8bc-99ac582de68a"
      },
      "execution_count": 35,
      "outputs": [
        {
          "output_type": "stream",
          "name": "stdout",
          "text": [
            "+------------+-----+\n",
            "|   municipio|count|\n",
            "+------------+-----+\n",
            "|      BOGOTA|30016|\n",
            "|BARRANQUILLA|13065|\n",
            "|   CARTAGENA| 8333|\n",
            "|        CALI| 7747|\n",
            "|     SOLEDAD| 6233|\n",
            "|     LETICIA| 2194|\n",
            "|    MEDELLIN| 2137|\n",
            "|      TUMACO| 1501|\n",
            "|BUENAVENTURA| 1453|\n",
            "|      QUIBDO| 1367|\n",
            "+------------+-----+\n",
            "only showing top 10 rows\n",
            "\n"
          ]
        }
      ]
    },
    {
      "cell_type": "code",
      "source": [
        "spark.sql(\"\"\"select `Fecha de inicio de síntomas` as fecha, count(*) as count from covid19 where\n",
        " `Fecha de inicio de síntomas` is not NULL group by fecha order by count desc limit 10\"\"\").show()"
      ],
      "metadata": {
        "colab": {
          "base_uri": "https://localhost:8080/"
        },
        "id": "hXpKRbk-uRA1",
        "outputId": "d9168e70-c9e6-4e9e-a829-09de538773e5"
      },
      "execution_count": 36,
      "outputs": [
        {
          "output_type": "stream",
          "name": "stdout",
          "text": [
            "+-----------------+-----+\n",
            "|            fecha|count|\n",
            "+-----------------+-----+\n",
            "|10/6/2020 0:00:00| 2731|\n",
            "|16/6/2020 0:00:00| 2558|\n",
            "|18/6/2020 0:00:00| 2479|\n",
            "|12/6/2020 0:00:00| 2452|\n",
            "| 1/6/2020 0:00:00| 2429|\n",
            "| 8/6/2020 0:00:00| 2390|\n",
            "|17/6/2020 0:00:00| 2344|\n",
            "| 5/6/2020 0:00:00| 2266|\n",
            "| 9/6/2020 0:00:00| 2224|\n",
            "|19/6/2020 0:00:00| 2162|\n",
            "+-----------------+-----+\n",
            "\n"
          ]
        }
      ]
    },
    {
      "cell_type": "code",
      "source": [
        "spark.sql('select edad, age_group,count(*) as count from covid19 group by edad, age_group order by count desc').show()"
      ],
      "metadata": {
        "colab": {
          "base_uri": "https://localhost:8080/"
        },
        "id": "g7CFhUZpyETK",
        "outputId": "51e8998d-bc74-415e-8bb8-576fe52baae3"
      },
      "execution_count": 37,
      "outputs": [
        {
          "output_type": "stream",
          "name": "stdout",
          "text": [
            "+----+-----------+-----+\n",
            "|edad|  age_group|count|\n",
            "+----+-----------+-----+\n",
            "|  30|young adult| 2735|\n",
            "|  29|young adult| 2611|\n",
            "|  31|     senior| 2569|\n",
            "|  28|young adult| 2540|\n",
            "|  27|young adult| 2494|\n",
            "|  26|young adult| 2436|\n",
            "|  33|     senior| 2371|\n",
            "|  32|     senior| 2362|\n",
            "|  25|young adult| 2335|\n",
            "|  34|     senior| 2310|\n",
            "|  35|     senior| 2292|\n",
            "|  24|young adult| 2214|\n",
            "|  36|     senior| 2175|\n",
            "|  37|     senior| 2132|\n",
            "|  38|     senior| 2098|\n",
            "|  40|     senior| 2050|\n",
            "|  23|young adult| 2041|\n",
            "|  39|     senior| 1985|\n",
            "|  22|young adult| 1879|\n",
            "|  41|     senior| 1783|\n",
            "+----+-----------+-----+\n",
            "only showing top 20 rows\n",
            "\n"
          ]
        }
      ]
    },
    {
      "cell_type": "code",
      "source": [
        "spark.sql('''select age_group, count(*) as count from covid19 where\n",
        "`Fecha de muerte` is not null group by age_group order by count desc''').show()"
      ],
      "metadata": {
        "colab": {
          "base_uri": "https://localhost:8080/"
        },
        "id": "zaqvQFC8yjNw",
        "outputId": "19232ecf-2272-4e3e-eb30-6f68f0ec59d6"
      },
      "execution_count": null,
      "outputs": [
        {
          "output_type": "stream",
          "name": "stdout",
          "text": [
            "+-----------+-----+\n",
            "|  age_group|count|\n",
            "+-----------+-----+\n",
            "|     senior| 5435|\n",
            "|young adult|  147|\n",
            "|        kid|   51|\n",
            "+-----------+-----+\n",
            "\n"
          ]
        }
      ]
    }
  ]
}